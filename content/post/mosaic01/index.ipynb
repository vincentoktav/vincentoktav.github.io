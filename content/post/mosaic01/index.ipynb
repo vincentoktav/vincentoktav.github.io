{
 "cells": [
  {
   "cell_type": "code",
   "execution_count": 1,
   "metadata": {},
   "outputs": [],
   "source": [
    "import skimage\n",
    "import skimage.io\n",
    "import pandas as pd\n",
    "\n",
    "import PIL\n",
    "from PIL import Image\n",
    "\n",
    "from os import listdir\n",
    "from os.path import isfile, join\n",
    "import sys"
   ]
  },
  {
   "cell_type": "markdown",
   "metadata": {},
   "source": [
    "# Project 1 Notebook\n",
    "\n",
    "The overview of Project 1 is written here: http://courses.las.illinois.edu/fall2019/stat107/projects/mosaic/.  This notebook is used for coding the project with some provided starter code. :)"
   ]
  },
  {
   "cell_type": "markdown",
   "metadata": {},
   "source": [
    "## Part 1c: Programming!\n",
    "\n",
    "Follow the guide for Project 1 to help complete your `findAverageImageColor` function:"
   ]
  },
  {
   "cell_type": "code",
   "execution_count": 4,
   "metadata": {
    "deletable": false,
    "nbgrader": {
     "cell_type": "code",
     "checksum": "8b25c6c0e979919cace584de81c89ef2",
     "grade": false,
     "grade_id": "cell-0dbb8ddddc2b1de5",
     "locked": false,
     "schema_version": 3,
     "solution": true,
     "task": false
    }
   },
   "outputs": [],
   "source": [
    "def findAverageImageColor(fileName):\n",
    "    # Your code here!\n",
    "    sumL, suma, sumb = 0, 0, 0\n",
    "    count = 0\n",
    "    rgb = skimage.io.imread(fileName)\n",
    "    lab = skimage.color.rgb2lab(rgb)\n",
    "    width = len(lab)\n",
    "    height = len(lab[0])\n",
    "    for x in range(width):\n",
    "        for y in range(height):\n",
    "            L, a, b = lab[x][y]\n",
    "            sumL += L\n",
    "            suma += a\n",
    "            sumb += b\n",
    "            count += 1\n",
    "            \n",
    "    return {'L': sumL/count, 'a': suma/count, 'b': sumb/count}"
   ]
  },
  {
   "cell_type": "markdown",
   "metadata": {},
   "source": [
    "### Part 1c -- Test Cases\n",
    "\n",
    "These test cases help you debug your code to make sure you're finding the correct average values for known images.  After you pass these test cases, then you'll start using your own images! :)"
   ]
  },
  {
   "cell_type": "code",
   "execution_count": 6,
   "metadata": {
    "deletable": false,
    "editable": false,
    "nbgrader": {
     "cell_type": "code",
     "checksum": "df3057f5ea8041fbc395b3f72a50dac1",
     "grade": true,
     "grade_id": "cell-59256d97f4255439",
     "locked": true,
     "points": 1,
     "schema_version": 3,
     "solution": false,
     "task": false
    }
   },
   "outputs": [
    {
     "name": "stdout",
     "output_type": "stream",
     "text": [
      "ℹ Your test.png values: (L=47.19722525581813, a=49.03421116311881, b=38.60877549417687)\n",
      "ℹ Your test2.png values: (L=54.24409328969397, a=59.3141053878179, b=52.97987993308968)\n",
      "ℹ Your test3.png values: (L=46.41423991872082, a=47.89200069370779, b=37.011986112075455)\n",
      "\n",
      "🎉 All tests passed! 🎉\n"
     ]
    }
   ],
   "source": [
    "## == TEST CASES for Part 1c ==\n",
    "# - This read-only cell contains test cases for your previous cell(s).\n",
    "# - If this cell runs without any errors in the output, you PASSED all test cases!\n",
    "# - If this cell results errors, check you previous cell, make changes, and RE-RUN your code and then this cell.\n",
    "info = '\\N{INFORMATION SOURCE}'\n",
    "test = findAverageImageColor('test.png')\n",
    "\n",
    "assert( test != None ), \"Your findAverageImageColor function must return a value (right now it's returning nothing).\"\n",
    "assert( type(test) == type({}) ), f\"Your findAverageImageColor function must return a dictionary (right now it's returning {type(test)}).\"\n",
    "\n",
    "assert( 'L' in test ), \"Your findAverageImageColor must return a value for 'L'.\"\n",
    "assert( 'a' in test ), \"Your findAverageImageColor must return a value for 'a'.\"\n",
    "assert( 'b' in test ), \"Your findAverageImageColor must return a value for 'b'.\"\n",
    "\n",
    "print(f\"{info} Your test.png values: (L={test['L']}, a={test['a']}, b={test['b']})\")\n",
    "assert( abs(test['L'] - 54.244) > 0.001 ), \"Your 'L' value is the value of only orange pixels.  Are you sure you are visiting every pixel?\"\n",
    "assert( abs(test['a'] - 59.314) > 0.001 ), \"Your 'a' value is the value of only orange pixels.  Are you sure you are visiting every pixel?\"\n",
    "assert( abs(test['b'] - 52.9799) > 0.001 ), \"Your 'b' value is the value of only orange pixels.  Are you sure you are visiting every pixel?\"\n",
    "\n",
    "assert( abs(test['L'] - 47.197) < 0.001 ), \"Your 'L' value is not correct on test.png.\"\n",
    "assert( abs(test['a'] - 49.034) < 0.001 ), \"Your 'a' value is not correct on test.png.\"\n",
    "assert( abs(test['b'] - 38.609) < 0.001 ), \"Your 'b' value is not correct on test.png.\"\n",
    "\n",
    "\n",
    "test2 = findAverageImageColor('test2.png')\n",
    "\n",
    "print(f\"{info} Your test2.png values: (L={test2['L']}, a={test2['a']}, b={test2['b']})\")\n",
    "assert( abs(test2['L'] - 54.244) < 0.001 ), \"Your 'L' value is not correct on test2.png.\"\n",
    "assert( abs(test2['a'] - 59.314) < 0.001 ), \"Your 'a' value is not correct on test2.png.\"\n",
    "assert( abs(test2['b'] - 52.9799) < 0.001 ), \"Your 'b' value is not correct on test2.png.\"\n",
    "\n",
    "\n",
    "test3 = findAverageImageColor('test3.png')\n",
    "\n",
    "print(f\"{info} Your test3.png values: (L={test3['L']}, a={test3['a']}, b={test3['b']})\")\n",
    "assert( abs(test3['L'] - 46.414) < 0.001 ), \"Your 'L' value is not correct on test3.png.\"\n",
    "assert( abs(test3['a'] - 47.892) < 0.001 ), \"Your 'a' value is not correct on test3.png.\"\n",
    "assert( abs(test3['b'] - 37.012) < 0.001 ), \"Your 'b' value is not correct on test3.png.\"\n",
    "\n",
    "\n",
    "## == SUCCESS MESSAGE ==\n",
    "# You will only see this message (with the emoji showing) if you passed all test cases:\n",
    "tada = \"\\N{PARTY POPPER}\"\n",
    "print()\n",
    "print(f\"{tada} All tests passed! {tada}\")"
   ]
  },
  {
   "cell_type": "markdown",
   "metadata": {},
   "source": [
    "## Part 1d: Your Images\n",
    "\n",
    "Once your function works and passes all the test cases, this code loads all files in the `tile-images` folder and stores the average color value of the image in `tile-images.csv`.\n",
    "\n",
    "- This code is already complete, but depends on a correct `findAverageImageColor` function!\n",
    "- Make sure your code is complete before running this function!\n"
   ]
  },
  {
   "cell_type": "code",
   "execution_count": 9,
   "metadata": {},
   "outputs": [
    {
     "name": "stdout",
     "output_type": "stream",
     "text": [
      "Starting to process 2113 files...\n",
      "  ... 2113 / 2113 total files processed (100.00%)\n",
      "\n",
      "🎉 Image data saved as tile-images.csv\n"
     ]
    }
   ],
   "source": [
    "# What directory includes the images?\n",
    "imageDir = \"tile-images\"\n",
    "\n",
    "# Finds all files inside of `imageDir`:\n",
    "files = [imageDir + \"/\" + f for f in listdir(imageDir + \"/\") if isfile(join(imageDir + \"/\", f))]\n",
    "\n",
    "# Use `data` to store data about every image:\n",
    "data = []\n",
    "\n",
    "# Loop through every file:\n",
    "print(f\"Starting to process {len(files)} files...\")\n",
    "for file in files:\n",
    "    try:\n",
    "        # Run `findAverageImageColor` and store the result:\n",
    "        result = findAverageImageColor(file)\n",
    "        d = { 'file': file, 'L': result['L'], 'a': result['a'], 'b': result['b'] }\n",
    "        data.append(d)\n",
    "        pct = len(data) / len(files) * 100\n",
    "        sys.stdout.write(f\"\\r  ... {len(data)} / {len(files)} total files processed ({pct:.2f}%)\")\n",
    "    except ValueError as e:\n",
    "        print(f\"!! {file} failed to process (this can happen if the image is black/white and has no color data?)\")\n",
    "        print(\"...if so, remove the image and run again.\")\n",
    "        print(repr(e))\n",
    "        break\n",
    "                \n",
    "# Save the data as a DataFrame and CSV file:\n",
    "df = pd.DataFrame(data)\n",
    "df.to_csv('tile-images.csv')\n",
    "df\n",
    "\n",
    "tada = \"\\N{PARTY POPPER}\"\n",
    "print(\"\")\n",
    "print(\"\")\n",
    "print(f\"{tada} Image data saved as \"\"tile-images.csv\"\"\")"
   ]
  },
  {
   "cell_type": "markdown",
   "metadata": {},
   "source": [
    "## Turn In and Continue to Part 2\n",
    "\n",
    "- Make sure to turn in Part 1 by the due date!\n",
    "- Part 2 will use the CSV file you saved, `tile-images.csv`, to build your image mosaic!"
   ]
  }
 ],
 "metadata": {
  "kernelspec": {
   "display_name": "Python 3",
   "language": "python",
   "name": "python3"
  },
  "language_info": {
   "codemirror_mode": {
    "name": "ipython",
    "version": 3
   },
   "file_extension": ".py",
   "mimetype": "text/x-python",
   "name": "python",
   "nbconvert_exporter": "python",
   "pygments_lexer": "ipython3",
   "version": "3.7.3"
  }
 },
 "nbformat": 4,
 "nbformat_minor": 2
}
